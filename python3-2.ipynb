{
  "nbformat": 4,
  "nbformat_minor": 0,
  "metadata": {
    "colab": {
      "name": "Untitled4.ipynb",
      "version": "0.3.2",
      "provenance": [],
      "include_colab_link": true
    },
    "kernelspec": {
      "name": "python3",
      "display_name": "Python 3"
    }
  },
  "cells": [
    {
      "cell_type": "markdown",
      "metadata": {
        "id": "view-in-github",
        "colab_type": "text"
      },
      "source": [
        "<a href=\"https://colab.research.google.com/github/4070E016/Python/blob/master/python3-2.ipynb\" target=\"_parent\"><img src=\"https://colab.research.google.com/assets/colab-badge.svg\" alt=\"Open In Colab\"/></a>"
      ]
    },
    {
      "metadata": {
        "id": "vKPnEkDDX8WO",
        "colab_type": "code",
        "colab": {
          "base_uri": "https://localhost:8080/",
          "height": 51
        },
        "outputId": "41e3f997-200a-4c68-b44e-495fe7558645"
      },
      "cell_type": "code",
      "source": [
        "import math\n",
        "\n",
        "x1, y1, x2, y2, x3, y3 = eval(input(\"Enter six coordinates of three points \\\n",
        "separated by commas like x1, y1, x2, y2, x3, y3: \"))\n",
        " \n",
        "a = math.sqrt((x2 - x3) * (x2 - x3) + (y2 - y3) * (y2 - y3))\n",
        "b = math.sqrt((x1 - x3) * (x1 - x3) + (y1 - y3) * (y1 - y3))\n",
        "c = math.sqrt((x1 - x2) * (x1 - x2) + (y1 - y2) * (y1 - y2))\n",
        "\n",
        "A = math.degrees(math.acos((a * a - b * b - c * c) / (-2 * b * c)))\n",
        "B = math.degrees(math.acos((b * b - a * a - c * c) / (-2 * a * c)))\n",
        "C = math.degrees(math.acos((c * c - b * b - a * a) / (-2 * a * b)))\n",
        "\n",
        "print(\"The three angles are \", round(A * 100) / 100.0,  \n",
        "    round(B * 100) / 100.0, round(C * 100) / 100.0)"
      ],
      "execution_count": 1,
      "outputs": [
        {
          "output_type": "stream",
          "text": [
            "Enter six coordinates of three points separated by commas like x1, y1, x2, y2, x3, y3: 0,0,5,5,7,7\n",
            "The three angles are  0.0 180.0 0.0\n"
          ],
          "name": "stdout"
        }
      ]
    },
    {
      "metadata": {
        "id": "gbmI4YDZYcTi",
        "colab_type": "text"
      },
      "cell_type": "markdown",
      "source": [
        "3.2 輸入三角形座標，計算三角形的角度"
      ]
    },
    {
      "metadata": {
        "id": "124VJ-B7YrFJ",
        "colab_type": "code",
        "colab": {
          "base_uri": "https://localhost:8080/",
          "height": 136
        },
        "outputId": "d3c19705-b617-4e08-aced-19bdbbe181ef"
      },
      "cell_type": "code",
      "source": [
        "# Receive the amount \n",
        "amount = eval(input(\"Enter an amount in double, e.g., 11.56: \"))\n",
        "\n",
        "# Convert the amount to cents\n",
        "remainingAmount = int(amount * 100)\n",
        "\n",
        "# Find the number of one dollars\n",
        "numberOfOneDollars = int(remainingAmount / 100)\n",
        "remainingAmount = int(remainingAmount % 100)\n",
        "\n",
        "# Find the number of quarters in the remaining amount\n",
        "numberOfQuarters = int(remainingAmount / 25)\n",
        "remainingAmount = remainingAmount % 25\n",
        "\n",
        "# Find the number of dimes in the remaining amount\n",
        "numberOfDimes = int(remainingAmount / 10)\n",
        "remainingAmount = remainingAmount % 10\n",
        "\n",
        "# Find the number of nickels in the remaining amount\n",
        "numberOfNickels = int(remainingAmount / 5)\n",
        "remainingAmount = remainingAmount % 5\n",
        "\n",
        "# Find the number of pennies in the remaining amount\n",
        "numberOfPennies = remainingAmount\n",
        "\n",
        "# Display results\n",
        "print(\"Your amount\", amount, \"consists of\\n\", \n",
        "    \"\\t\", numberOfOneDollars, \"dollars\\n\", \n",
        "    \"\\t\", numberOfQuarters, \"quarters\\n\",\n",
        "    \"\\t\", numberOfDimes,  \"dimes\\n\",\n",
        "    \"\\t\", numberOfNickels, \"nickels\\n\",\n",
        "    \"\\t\", numberOfPennies, \"pennies\")\n"
      ],
      "execution_count": 2,
      "outputs": [
        {
          "output_type": "stream",
          "text": [
            "Enter an amount in double, e.g., 11.56: 50\n",
            "Your amount 50 consists of\n",
            " \t 50 dollars\n",
            " \t 0 quarters\n",
            " \t 0 dimes\n",
            " \t 0 nickels\n",
            " \t 0 pennies\n"
          ],
          "name": "stdout"
        }
      ]
    },
    {
      "metadata": {
        "id": "WJo7kHzXZCQZ",
        "colab_type": "text"
      },
      "cell_type": "markdown",
      "source": [
        "3.4換算美金"
      ]
    },
    {
      "metadata": {
        "id": "sEkmyS7NZHlx",
        "colab_type": "code",
        "colab": {
          "base_uri": "https://localhost:8080/",
          "height": 51
        },
        "outputId": "37db6c28-657e-4822-8a09-fba6adf3e637"
      },
      "cell_type": "code",
      "source": [
        "import random \n",
        "\n",
        "# Generate random numbers\n",
        "number1 = random.randint(0, 9)\n",
        "number2 = random.randint(0, 9)\n",
        "\n",
        "# Prompt the user to enter an answer\n",
        "answer = eval(input(\"What is \" + str(number1) + \" + \" \n",
        "    + str(number2) + \"? \"))\n",
        "    \n",
        "# Display result    \n",
        "print(number1, \"+\", number2, \"=\", answer, \n",
        "    \"is\", number1 + number2 == answer)"
      ],
      "execution_count": 6,
      "outputs": [
        {
          "output_type": "stream",
          "text": [
            "What is 1 + 9? 10\n",
            "1 + 9 = 10 is True\n"
          ],
          "name": "stdout"
        }
      ]
    },
    {
      "metadata": {
        "id": "YrVeX3KYaBmB",
        "colab_type": "text"
      },
      "cell_type": "markdown",
      "source": [
        "4.1亂數產生加法算式"
      ]
    },
    {
      "metadata": {
        "id": "-HiTaUA_Zw5Q",
        "colab_type": "code",
        "colab": {
          "base_uri": "https://localhost:8080/",
          "height": 68
        },
        "outputId": "eb04236e-8d3c-41d8-e2f4-7b2202d28faf"
      },
      "cell_type": "code",
      "source": [
        "number = eval(input(\"Enter an integer: \"))\n",
        "\n",
        "if number % 5 == 0 :\n",
        "   print(\"HiFive\");\n",
        "\n",
        "if number % 2 == 0 :\n",
        "   print(\"HiEven\");"
      ],
      "execution_count": 8,
      "outputs": [
        {
          "output_type": "stream",
          "text": [
            "Enter an integer: 10\n",
            "HiFive\n",
            "HiEven\n"
          ],
          "name": "stdout"
        }
      ]
    },
    {
      "metadata": {
        "id": "vJWRztJracdp",
        "colab_type": "text"
      },
      "cell_type": "markdown",
      "source": [
        "4.2 輸入整數 為5的倍數輸出HiFive，可被2整除輸出HiEven"
      ]
    },
    {
      "metadata": {
        "id": "SgMBmtYwhwU4",
        "colab_type": "code",
        "colab": {
          "base_uri": "https://localhost:8080/",
          "height": 119
        },
        "outputId": "7b6b4568-4a08-4b69-c302-3e32f6581ce6"
      },
      "cell_type": "code",
      "source": [
        "#!/usr/bin/python\n",
        "# -*- coding: UTF-8 -*-\n",
        "print(\"\")\n",
        "print(\"西元年代對應到的十二生肖\")\n",
        "print(\"\")\n",
        "year = eval(input(\"請輸入你出生的年代: \"))\n",
        "print(\"\")\n",
        "zodiacYear = year % 12 \n",
        "if zodiacYear == 0:\n",
        "    print(\"monkey===猴子哩\")\n",
        "elif zodiacYear == 1:\n",
        "    print(\"rooster雞\")\n",
        "elif zodiacYear == 2:\n",
        "    print(\"dog狗狗\")\n",
        "elif zodiacYear == 3:\n",
        "    print(\"pig豬豬\")\n",
        "elif zodiacYear == 4: \n",
        "    print(\"rat鼠\")\n",
        "elif zodiacYear == 5: \n",
        "    print(\"ox牛\")\n",
        "elif zodiacYear == 6:\n",
        "    print(\"tiger虎虎生威\")\n",
        "elif zodiacYear == 7:\n",
        "    print(\"rabbit兔子\")\n",
        "elif zodiacYear == 8:\n",
        "    print(\"dragon偉大的龍\")\n",
        "elif zodiacYear == 9:\n",
        "    print(\"snake蛇\")\n",
        "elif zodiacYear == 10:\n",
        "    print(\"horse馬\")\n",
        "else: \n",
        "    print(\"sheep羊\")"
      ],
      "execution_count": 10,
      "outputs": [
        {
          "output_type": "stream",
          "text": [
            "\n",
            "西元年代對應到的十二生肖\n",
            "\n",
            "請輸入你出生的年代: 1999\n",
            "\n",
            "rabbit兔子\n"
          ],
          "name": "stdout"
        }
      ]
    },
    {
      "metadata": {
        "id": "cyvDVZLqh7Do",
        "colab_type": "code",
        "colab": {
          "base_uri": "https://localhost:8080/",
          "height": 34
        },
        "outputId": "a4714438-6b43-498a-9150-fb524e77d65c"
      },
      "cell_type": "code",
      "source": [
        "score = [70, 90, 78, 85, 97, 94, 65, 80]\n",
        "s = 0\n",
        "for i in score:\n",
        "\ts += i\n",
        "print(s / len(score))"
      ],
      "execution_count": 11,
      "outputs": [
        {
          "output_type": "stream",
          "text": [
            "82.375\n"
          ],
          "name": "stdout"
        }
      ]
    },
    {
      "metadata": {
        "id": "J3tJFbboiGf5",
        "colab_type": "code",
        "colab": {
          "base_uri": "https://localhost:8080/",
          "height": 68
        },
        "outputId": "10316dab-ec3b-411b-83b3-10b45d5e6c77"
      },
      "cell_type": "code",
      "source": [
        "words = ['cat', 'window', 'defenestrate']\n",
        "for w in words:\n",
        "  print (w, len(w))"
      ],
      "execution_count": 20,
      "outputs": [
        {
          "output_type": "stream",
          "text": [
            "cat 3\n",
            "window 6\n",
            "defenestrate 12\n"
          ],
          "name": "stdout"
        }
      ]
    },
    {
      "metadata": {
        "id": "puOE8CMajuCR",
        "colab_type": "code",
        "colab": {
          "base_uri": "https://localhost:8080/",
          "height": 425
        },
        "outputId": "6995f89c-2320-4ce3-9bb9-5720101ca71b"
      },
      "cell_type": "code",
      "source": [
        "#!/usr/bin/python\n",
        "# -*- coding: UTF-8 -*-\n",
        " \n",
        "for i in range(1,5):\n",
        "    for j in range(1,5):\n",
        "        for k in range(1,5):\n",
        "            if( i != k ) and (i != j) and (j != k):\n",
        "                print (i,j,k)"
      ],
      "execution_count": 22,
      "outputs": [
        {
          "output_type": "stream",
          "text": [
            "1 2 3\n",
            "1 2 4\n",
            "1 3 2\n",
            "1 3 4\n",
            "1 4 2\n",
            "1 4 3\n",
            "2 1 3\n",
            "2 1 4\n",
            "2 3 1\n",
            "2 3 4\n",
            "2 4 1\n",
            "2 4 3\n",
            "3 1 2\n",
            "3 1 4\n",
            "3 2 1\n",
            "3 2 4\n",
            "3 4 1\n",
            "3 4 2\n",
            "4 1 2\n",
            "4 1 3\n",
            "4 2 1\n",
            "4 2 3\n",
            "4 3 1\n",
            "4 3 2\n"
          ],
          "name": "stdout"
        }
      ]
    },
    {
      "metadata": {
        "id": "YwC_60pujuFI",
        "colab_type": "code",
        "colab": {
          "base_uri": "https://localhost:8080/",
          "height": 221
        },
        "outputId": "d0f7a030-efbf-4689-dea2-f51134f7e9a2"
      },
      "cell_type": "code",
      "source": [
        "def main(n):\n",
        "    for i in range(n):\n",
        "        print((' * '*i).center(n*3))\n",
        "    for i in range(n, 0, -1):\n",
        "        print((' * '*i).center(n*3))\n",
        "\n",
        "main(6)"
      ],
      "execution_count": 23,
      "outputs": [
        {
          "output_type": "stream",
          "text": [
            "                  \n",
            "        *         \n",
            "       *  *       \n",
            "     *  *  *      \n",
            "    *  *  *  *    \n",
            "  *  *  *  *  *   \n",
            " *  *  *  *  *  * \n",
            "  *  *  *  *  *   \n",
            "    *  *  *  *    \n",
            "     *  *  *      \n",
            "       *  *       \n",
            "        *         \n"
          ],
          "name": "stdout"
        }
      ]
    },
    {
      "metadata": {
        "id": "vvBogwSBkPSR",
        "colab_type": "code",
        "colab": {}
      },
      "cell_type": "code",
      "source": [
        ""
      ],
      "execution_count": 0,
      "outputs": []
    }
  ]
}